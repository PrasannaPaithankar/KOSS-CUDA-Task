{
  "nbformat": 4,
  "nbformat_minor": 0,
  "metadata": {
    "colab": {
      "name": "Copy of Copy of KOSS-Selection-Task.ipynb",
      "provenance": [],
      "collapsed_sections": [
        "_uGsMSfuQ1UK",
        "Zjokmvv5Gsr7",
        "eT131gDCPnV5"
      ],
      "private_outputs": true,
      "include_colab_link": true
    },
    "kernelspec": {
      "name": "python3",
      "display_name": "Python 3"
    },
    "language_info": {
      "name": "python"
    },
    "accelerator": "GPU"
  },
  "cells": [
    {
      "cell_type": "markdown",
      "metadata": {
        "id": "view-in-github",
        "colab_type": "text"
      },
      "source": [
        "<a href=\"https://colab.research.google.com/github/PrasannaPaithankar/KOSS-CUDA-Task/blob/main/KOSS_Selection_Task.ipynb\" target=\"_parent\"><img src=\"https://colab.research.google.com/assets/colab-badge.svg\" alt=\"Open In Colab\"/></a>"
      ]
    },
    {
      "cell_type": "markdown",
      "source": [
        "Run the first 3 cell to load cuda runtime plugin \n",
        "#### Note: Check in the menu bar-> **Runtime**->**Change runtime type** the hardware accelerator selected is GPU\n",
        "\n"
      ],
      "metadata": {
        "id": "_uGsMSfuQ1UK"
      }
    },
    {
      "cell_type": "code",
      "source": [
        "!nvcc --version #to check nvcc compiler version"
      ],
      "metadata": {
        "id": "t_j74muER-2Y"
      },
      "execution_count": null,
      "outputs": []
    },
    {
      "cell_type": "code",
      "source": [
        "!pip install git+https://github.com/andreinechaev/nvcc4jupyter.git\n"
      ],
      "metadata": {
        "id": "RJPb35EnSMpC"
      },
      "execution_count": null,
      "outputs": []
    },
    {
      "cell_type": "code",
      "source": [
        "%load_ext nvcc_plugin"
      ],
      "metadata": {
        "id": "sKQYuM4_TBWg"
      },
      "execution_count": null,
      "outputs": []
    },
    {
      "cell_type": "markdown",
      "source": [
        "In the below cells enter your CUDA code \n",
        "#### Note: this notebook runs python file by default to run cuda file using nvcc compiler at the begining of the code you have to add `%%cu` to tell the env that it is a cuda code. A demo code cell has been added below for reference\n"
      ],
      "metadata": {
        "id": "perft3tbbCTA"
      }
    },
    {
      "cell_type": "markdown",
      "source": [
        "# **Part 1**\n",
        "Print \"Hello World on GPU\" 1024 times using cuda kernel with 4 blocks and 256 threads and compare the time with a sequential C code to print \"Hello World on CPU\" 1024 times. Compare the performance wrt time using the C clock function from time library."
      ],
      "metadata": {
        "id": "Zjokmvv5Gsr7"
      }
    },
    {
      "cell_type": "code",
      "source": [
        "%%cu\n",
        "//Enter your Cuda Code below this line\n",
        "#include <stdio.h>        \n",
        "#include <unistd.h>  \n",
        "#include <time.h>\n",
        "\n",
        "__global__ void helloWorld( )\n",
        "{\n",
        "   printf(\"Hello World on GPU\\n\");\n",
        "}\n",
        "\n",
        "int main()\n",
        "{\n",
        "   float CPU_time, GPU_time;\n",
        "   clock_t start_t, end_t;\n",
        "   cudaEvent_t start,stop;\n",
        "  \n",
        "   start_t = clock();  \n",
        "   for(int i = 0; i < 1024; i++)\n",
        "   {\n",
        "       printf(\"Hello World on CPU\\n\");\n",
        "   }\n",
        "   end_t = clock();\n",
        "   CPU_time = (float)(end_t - start_t) / CLOCKS_PER_SEC;\n",
        "   \n",
        "   cudaDeviceSynchronize();\n",
        "   cudaEventCreate(&start);\n",
        "   cudaEventCreate(&stop);\n",
        "   cudaEventRecord(start, 0); \n",
        "   cudaEventRecord(stop, 0);\n",
        " \n",
        "   helloWorld<<< 4, 256 >>>( );\n",
        " \n",
        "   cudaEventSynchronize(stop);\n",
        "   cudaEventElapsedTime(&GPU_time, start, stop);\n",
        "   cudaEventDestroy(start);\n",
        "   cudaEventDestroy(stop);\n",
        " \n",
        "   \n",
        "   \n",
        "   printf(\"CPU execution time = %f \\nGPU execution time = %f\", \n",
        "           CPU_time, GPU_time);\n",
        " \n",
        "   return 0;\n",
        "}"
      ],
      "metadata": {
        "id": "bdjlMA-wU5_O"
      },
      "execution_count": null,
      "outputs": []
    },
    {
      "cell_type": "markdown",
      "source": [
        "# **Part 2**\n",
        "Add 2 dimensional matrix A and B to result in a new matrix C. The Size of the matrix is 32x32. The elements of the matrix are A[i][j]=i and B[i][j]=j. Compute this on GPU kernel of size 4 blocks containg 16*16 threads and copy the result on GPU to CPU using cudaMemcpy and print the result on terminal. Compare the performance wrt time again."
      ],
      "metadata": {
        "id": "eT131gDCPnV5"
      }
    },
    {
      "cell_type": "code",
      "source": [
        "%%cu\n",
        "#include <stdio.h>\n",
        "#include <stdlib.h>\n",
        "\n",
        "#define N 32\n",
        "\n",
        "__global__ void Add(int A[N][N], int B[N][N], int C[N][N]){\n",
        "           int i = threadIdx.x;\n",
        "           int j = threadIdx.y;\n",
        "           if (i < N && j < N)\n",
        "           {\n",
        "           C[i][j] = A[i][j] + B[i][j];\n",
        "           }\n",
        "           __syncthreads();\n",
        "       }\n",
        "\n",
        "\n",
        "int main(){\n",
        "\n",
        "int A[N][N];\n",
        "int B[N][N];\n",
        "int C[N][N];    \n",
        "\n",
        "float CPU_time, GPU_time;\n",
        "clock_t start_t, end_t;\n",
        "cudaEvent_t start,stop;\n",
        "int q, w;\n",
        "for(q = 0; q<32; q++)\n",
        "{\n",
        "    for(w = 0; w<32; w++)\n",
        "    {\n",
        "        A[q][w] = rand()%100+1;\n",
        "        B[q][w] = rand()%100+1;\n",
        "    }\n",
        "}\n",
        "\n",
        "int i, j; \n",
        "printf(\"A = \\n\");\n",
        "for(i=0;i<N;i++){\n",
        "    for(j=0;j<N;j++){\n",
        "        printf(\"%d \", A[i][j]);\n",
        "    }\n",
        "    printf(\"\\n\");\n",
        "}\n",
        "printf(\"\\n\");\n",
        "printf(\"B = \\n\");\n",
        "for(i=0;i<N;i++){\n",
        "    for(j=0;j<N;j++){\n",
        "        printf(\"%d \", B[i][j]);\n",
        "    }\n",
        "    printf(\"\\n\");\n",
        "}\n",
        "printf(\"\\n\");\n",
        "\n",
        "//CPU\n",
        "start_t = clock();  \n",
        "for(q = 0; q<32; q++)\n",
        "{\n",
        "    for(w = 0; w<32; w++)\n",
        "    {\n",
        "        C[q][w] = A[q][w] + B[q][w];\n",
        "    }\n",
        "}\n",
        "end_t = clock();\n",
        "CPU_time = (float)(end_t - start_t) / CLOCKS_PER_SEC;\n",
        "\n",
        "printf(\"CPU: C = \\n\");\n",
        "for(i=0;i<N;i++){\n",
        "    for(j=0;j<N;j++){\n",
        "        printf(\"%d \", C[i][j]);\n",
        "    }\n",
        "    printf(\"\\n\");\n",
        "}\n",
        "printf(\"\\n\");\n",
        "\n",
        "int (*pA)[N], (*pB)[N], (*pC)[N];\n",
        "\n",
        "cudaMalloc((void**)&pA, (N*N)*sizeof(int));\n",
        "cudaMalloc((void**)&pB, (N*N)*sizeof(int));\n",
        "cudaMalloc((void**)&pC, (N*N)*sizeof(int));\n",
        "\n",
        "cudaMemcpy(pA, A, (N*N)*sizeof(int), cudaMemcpyHostToDevice);\n",
        "cudaMemcpy(pB, B, (N*N)*sizeof(int), cudaMemcpyHostToDevice);\n",
        "cudaMemcpy(pC, C, (N*N)*sizeof(int), cudaMemcpyHostToDevice);\n",
        "\n",
        "cudaDeviceSynchronize();\n",
        "   cudaEventCreate(&start);\n",
        "   cudaEventCreate(&stop);\n",
        "   cudaEventRecord(start, 0); \n",
        "   cudaEventRecord(stop, 0);\n",
        "\n",
        "dim3 threadsPerBlock(32, 32);\n",
        "dim3 numBlocks(N / threadsPerBlock.x, N / threadsPerBlock.y);\n",
        "Add<<<numBlocks,threadsPerBlock>>>(pA,pB,pC);\n",
        "\n",
        "cudaEventSynchronize(stop);\n",
        "   cudaEventElapsedTime(&GPU_time, start, stop);\n",
        "   cudaEventDestroy(start);\n",
        "   cudaEventDestroy(stop);\n",
        "\n",
        "cudaMemcpy(C, pC, (N*N)*sizeof(int), cudaMemcpyDeviceToHost);\n",
        "\n",
        "//Printing\n",
        "\n",
        "printf(\"GPU: C = \\n\");\n",
        "for(i=0;i<N;i++){\n",
        "    for(j=0;j<N;j++){\n",
        "        printf(\"%d \", C[i][j]);\n",
        "    }\n",
        "    printf(\"\\n\");\n",
        "}\n",
        "\n",
        "printf(\"\\nCPU execution time = %f \\nGPU execution time = %f\", \n",
        "           CPU_time, GPU_time);\n",
        "\n",
        "//Garbage Collector\n",
        "cudaFree(pA); \n",
        "cudaFree(pB); \n",
        "cudaFree(pC);\n",
        "\n",
        "return 0;\n",
        "}"
      ],
      "metadata": {
        "id": "Tz9-d7o8U6HR"
      },
      "execution_count": null,
      "outputs": []
    },
    {
      "cell_type": "code",
      "source": [
        ""
      ],
      "metadata": {
        "id": "JIGNF68Z4Xvm"
      },
      "execution_count": null,
      "outputs": []
    }
  ]
}